{
  "nbformat": 4,
  "nbformat_minor": 0,
  "metadata": {
    "colab": {
      "name": "usingIlincsApis1.ipynb",
      "provenance": []
    },
    "kernelspec": {
      "name": "ir",
      "display_name": "R"
    },
    "language_info": {
      "name": "R"
    }
  },
  "cells": [
    {
      "cell_type": "markdown",
      "source": [
        "# iLINCS API R Notebook"
      ],
      "metadata": {
        "id": "T4U0nB8PjApR"
      }
    },
    {
      "cell_type": "markdown",
      "source": [
        "## Prerequisites"
      ],
      "metadata": {
        "id": "9CVlWb7IjAdM"
      }
    },
    {
      "cell_type": "code",
      "source": [
        "library(IRdisplay)\n",
        "library(tinytex)\n",
        "library(httr)\n",
        "library(jsonlite)\n",
        "library(htmltools)\n",
        "\n",
        "if (!require(\"BiocManager\", quietly = TRUE))\n",
        "    install.packages(\"BiocManager\")\n",
        "\n",
        "BiocManager::install(\"Biobase\")\n"
      ],
      "metadata": {
        "colab": {
          "base_uri": "https://localhost:8080/"
        },
        "id": "Y20W9HJxjAQv",
        "outputId": "6b9fbbc1-570b-435e-a1de-d3a1f461d275"
      },
      "execution_count": 1,
      "outputs": [
        {
          "output_type": "stream",
          "name": "stderr",
          "text": [
            "Installing package into ‘/usr/local/lib/R/site-library’\n",
            "(as ‘lib’ is unspecified)\n",
            "\n",
            "'getOption(\"repos\")' replaces Bioconductor standard repositories, see\n",
            "'?repositories' for details\n",
            "\n",
            "replacement repositories:\n",
            "    CRAN: https://cran.rstudio.com\n",
            "\n",
            "\n",
            "Bioconductor version 3.15 (BiocManager 1.30.18), R 4.2.0 (2022-04-22)\n",
            "\n",
            "Installing package(s) 'BiocVersion', 'Biobase'\n",
            "\n",
            "also installing the dependency ‘BiocGenerics’\n",
            "\n",
            "\n",
            "Old packages: 'dbplyr', 'processx', 'tinytex', 'nlme'\n",
            "\n"
          ]
        }
      ]
    },
    {
      "cell_type": "code",
      "source": [
        "library(\"readxl\")\n",
        "library(dplyr)\n",
        "\n",
        "my_data <- read_excel(\"test0616.xlsx\", sheet=\"Sheet1\")"
      ],
      "metadata": {
        "id": "VABXJjvuwPWR",
        "outputId": "2c536e37-8255-4992-c61c-0e7e1d973f70",
        "colab": {
          "base_uri": "https://localhost:8080/"
        }
      },
      "execution_count": 3,
      "outputs": [
        {
          "output_type": "stream",
          "name": "stderr",
          "text": [
            "\u001b[1m\u001b[22mNew names:\n",
            "\u001b[36m•\u001b[39m `` -> `...1`\n"
          ]
        }
      ]
    },
    {
      "cell_type": "code",
      "source": [
        "my_data$SignatureId"
      ],
      "metadata": {
        "id": "ybKDKv7cw9fb",
        "outputId": "1ff17c84-3957-45a5-8d07-2bc9cffeb251",
        "colab": {
          "base_uri": "https://localhost:8080/",
          "height": 798
        }
      },
      "execution_count": 6,
      "outputs": [
        {
          "output_type": "display_data",
          "data": {
            "text/html": [
              "<style>\n",
              ".list-inline {list-style: none; margin:0; padding: 0}\n",
              ".list-inline>li {display: inline-block}\n",
              ".list-inline>li:not(:last-child)::after {content: \"\\00b7\"; padding: 0 .5ex}\n",
              "</style>\n",
              "<ol class=list-inline><li>'LINCSCP_33167'</li><li>'LINCSCP_240518'</li><li>'LINCSCP_32012'</li><li>'LINCSCP_34284'</li><li>'LINCSCP_238767'</li><li>'LINCSCP_38861'</li><li>'LINCSCP_37252'</li><li>'LINCSCP_35762'</li><li>'LINCSCP_36981'</li><li>'LINCSCP_35104'</li><li>'LINCSCP_35262'</li><li>'LINCSCP_143108'</li><li>'LINCSCP_33339'</li><li>'LINCSCP_32717'</li><li>'LINCSCP_236234'</li><li>'LINCSCP_31811'</li><li>'LINCSCP_33460'</li><li>'LINCSCP_30171'</li><li>'LINCSCP_38873'</li><li>'LINCSCP_33637'</li><li>'LINCSCP_35083'</li><li>'LINCSCP_38860'</li><li>'LINCSCP_38863'</li><li>'LINCSCP_34392'</li><li>'LINCSCP_37797'</li><li>'LINCSCP_132955'</li><li>'LINCSCP_34652'</li><li>'LINCSCP_30951'</li><li>'LINCSCP_37329'</li><li>'LINCSCP_32771'</li><li>'LINCSCP_241838'</li><li>'LINCSCP_138016'</li><li>'LINCSCP_36477'</li><li>'LINCSCP_30221'</li><li>'LINCSCP_32752'</li><li>'LINCSCP_248968'</li><li>'LINCSCP_33850'</li><li>'LINCSCP_33222'</li><li>'LINCSCP_136388'</li><li>'LINCSCP_140411'</li><li>'LINCSCP_35764'</li><li>'LINCSCP_141977'</li><li>'LINCSCP_34190'</li><li>'LINCSCP_37798'</li><li>'LINCSCP_132211'</li><li>'LINCSCP_34229'</li><li>'LINCSCP_132958'</li><li>'LINCSCP_139623'</li><li>'LINCSCP_139408'</li><li>'LINCSCP_138007'</li><li>'LINCSCP_31293'</li><li>'LINCSCP_30882'</li><li>'LINCSCP_30824'</li><li>'LINCSCP_32798'</li><li>'LINCSCP_142518'</li><li>'LINCSCP_132340'</li><li>'LINCSCP_30701'</li><li>'LINCSCP_238939'</li><li>'LINCSCP_139465'</li><li>'LINCSCP_32834'</li><li>'LINCSCP_32913'</li><li>'LINCSCP_140363'</li><li>'LINCSCP_140273'</li><li>'LINCSCP_30649'</li><li>'LINCSCP_133033'</li><li>'LINCSCP_139056'</li><li>'LINCSCP_31287'</li><li>'LINCSCP_139861'</li><li>'LINCSCP_33103'</li><li>'LINCSCP_30252'</li><li>'LINCSCP_142667'</li><li>'LINCSCP_35146'</li><li>'LINCSCP_255179'</li><li>'LINCSCP_248814'</li><li>'LINCSCP_138256'</li><li>'LINCSCP_132441'</li><li>'LINCSCP_37799'</li><li>'LINCSCP_34747'</li><li>'LINCSCP_34265'</li><li>'LINCSCP_36138'</li><li>'LINCSCP_240171'</li><li>'LINCSCP_33598'</li><li>'LINCSCP_38625'</li><li>'LINCSCP_30879'</li><li>'LINCSCP_133050'</li><li>'LINCSCP_35133'</li><li>'LINCSCP_32764'</li><li>'LINCSCP_31216'</li><li>'LINCSCP_35613'</li><li>'LINCSCP_31382'</li><li>'LINCSCP_35070'</li><li>'LINCSCP_140321'</li><li>'LINCSCP_132192'</li><li>'LINCSCP_38373'</li><li>'LINCSCP_34670'</li><li>'LINCSCP_132948'</li><li>'LINCSCP_30986'</li><li>'LINCSCP_140378'</li><li>'LINCSCP_139982'</li><li>'LINCSCP_141798'</li><li>'LINCSCP_236812'</li><li>'LINCSCP_240450'</li><li>'LINCSCP_236536'</li><li>'LINCSCP_30249'</li><li>'LINCSCP_143255'</li><li>'LINCSCP_38578'</li><li>'LINCSCP_131904'</li><li>'LINCSCP_35299'</li><li>'LINCSCP_236901'</li><li>'LINCSCP_252061'</li><li>'LINCSCP_140048'</li><li>'LINCSCP_141509'</li><li>'LINCSCP_140336'</li><li>'LINCSCP_35377'</li><li>'LINCSCP_35190'</li><li>'LINCSCP_35340'</li><li>'LINCSCP_33243'</li><li>'LINCSCP_30404'</li><li>'LINCSCP_252815'</li><li>'LINCSCP_239235'</li><li>'LINCSCP_35324'</li><li>'LINCSCP_35471'</li><li>'LINCSCP_67592'</li><li>'LINCSCP_242068'</li><li>'LINCSCP_238928'</li><li>'LINCSCP_133418'</li><li>'LINCSCP_249045'</li><li>'LINCSCP_32664'</li><li>'LINCSCP_30609'</li><li>'LINCSCP_136585'</li><li>'LINCSCP_30343'</li><li>'LINCSCP_35509'</li><li>'LINCSCP_31280'</li><li>'LINCSCP_239064'</li><li>'LINCSCP_240378'</li><li>'LINCSCP_33193'</li><li>'LINCSCP_241149'</li><li>'LINCSCP_33827'</li><li>'LINCSCP_251920'</li><li>'LINCSCP_243122'</li><li>'LINCSCP_37738'</li><li>'LINCSCP_243170'</li><li>'LINCSCP_133095'</li><li>'LINCSCP_132599'</li><li>'LINCSCP_140946'</li><li>'LINCSCP_35637'</li><li>'LINCSCP_133186'</li><li>'LINCSCP_31259'</li><li>'LINCSCP_142043'</li><li>'LINCSCP_142382'</li><li>'LINCSCP_30503'</li><li>'LINCSCP_244059'</li><li>'LINCSCP_248924'</li><li>'LINCSCP_38362'</li><li>'LINCSCP_38426'</li><li>'LINCSCP_31713'</li><li>'LINCSCP_35671'</li><li>'LINCSCP_143433'</li><li>'LINCSCP_34720'</li><li>'LINCSCP_243362'</li><li>'LINCSCP_236821'</li><li>'LINCSCP_30670'</li><li>'LINCSCP_143021'</li><li>'LINCSCP_34752'</li><li>'LINCSCP_139320'</li><li>'LINCSCP_132711'</li><li>'LINCSCP_131918'</li><li>'LINCSCP_251108'</li><li>'LINCSCP_132373'</li><li>'LINCSCP_33551'</li><li>'LINCSCP_32742'</li><li>'LINCSCP_142766'</li><li>'LINCSCP_30411'</li><li>'LINCSCP_143366'</li><li>'LINCSCP_138013'</li><li>'LINCSCP_140886'</li><li>'LINCSCP_34464'</li><li>'LINCSCP_36106'</li><li>'LINCSCP_32036'</li><li>'LINCSCP_142349'</li><li>'LINCSCP_251508'</li><li>'LINCSCP_67581'</li><li>'LINCSCP_144089'</li><li>'LINCSCP_251126'</li><li>'LINCSCP_140848'</li><li>'LINCSCP_37242'</li><li>'LINCSCP_243214'</li><li>'LINCSCP_132761'</li><li>'LINCSCP_242908'</li><li>'LINCSCP_143067'</li><li>'LINCSCP_238407'</li><li>'LINCSCP_142182'</li><li>'LINCSCP_236972'</li><li>'LINCSCP_31197'</li><li>'LINCSCP_139413'</li><li>'LINCSCP_32778'</li><li>'LINCSCP_30608'</li><li>'LINCSCP_31431'</li><li>'LINCSCP_31282'</li><li>'LINCSCP_30785'</li><li>⋯</li><li>'LINCSCP_137199'</li><li>'LINCSCP_34748'</li><li>'LINCSCP_36330'</li><li>'LINCSCP_31092'</li><li>'LINCSCP_31514'</li><li>'LINCSCP_31247'</li><li>'LINCSCP_32773'</li><li>'LINCSCP_137401'</li><li>'LINCSCP_32620'</li><li>'LINCSCP_239325'</li><li>'LINCSCP_137054'</li><li>'LINCSCP_132354'</li><li>'LINCSCP_33390'</li><li>'LINCSCP_32067'</li><li>'LINCSCP_34080'</li><li>'LINCSCP_36727'</li><li>'LINCSCP_252940'</li><li>'LINCSCP_33500'</li><li>'LINCSCP_30296'</li><li>'LINCSCP_140015'</li><li>'LINCSCP_33159'</li><li>'LINCSCP_37873'</li><li>'LINCSCP_34471'</li><li>'LINCSCP_249758'</li><li>'LINCSCP_143363'</li><li>'LINCSCP_144498'</li><li>'LINCSCP_32667'</li><li>'LINCSCP_35768'</li><li>'LINCSCP_32600'</li><li>'LINCSCP_33619'</li><li>'LINCSCP_240981'</li><li>'LINCSCP_32843'</li><li>'LINCSCP_255155'</li><li>'LINCSCP_139524'</li><li>'LINCSCP_36663'</li><li>'LINCSCP_132779'</li><li>'LINCSCP_139627'</li><li>'LINCSCP_38742'</li><li>'LINCSCP_34072'</li><li>'LINCSCP_34629'</li><li>'LINCSCP_140819'</li><li>'LINCSCP_33461'</li><li>'LINCSCP_67618'</li><li>'LINCSCP_32936'</li><li>'LINCSCP_238964'</li><li>'LINCSCP_30342'</li><li>'LINCSCP_34234'</li><li>'LINCSCP_139778'</li><li>'LINCSCP_67430'</li><li>'LINCSCP_35120'</li><li>'LINCSCP_135676'</li><li>'LINCSCP_30309'</li><li>'LINCSCP_143009'</li><li>'LINCSCP_35939'</li><li>'LINCSCP_33775'</li><li>'LINCSCP_36069'</li><li>'LINCSCP_132687'</li><li>'LINCSCP_30955'</li><li>'LINCSCP_33171'</li><li>'LINCSCP_33961'</li><li>'LINCSCP_249032'</li><li>'LINCSCP_140434'</li><li>'LINCSCP_30487'</li><li>'LINCSCP_132248'</li><li>'LINCSCP_137378'</li><li>'LINCSCP_142429'</li><li>'LINCSCP_142383'</li><li>'LINCSCP_134030'</li><li>'LINCSCP_139218'</li><li>'LINCSCP_239135'</li><li>'LINCSCP_34413'</li><li>'LINCSCP_133019'</li><li>'LINCSCP_37069'</li><li>'LINCSCP_143401'</li><li>'LINCSCP_33837'</li><li>'LINCSCP_31041'</li><li>'LINCSCP_132642'</li><li>'LINCSCP_30366'</li><li>'LINCSCP_251179'</li><li>'LINCSCP_33722'</li><li>'LINCSCP_241244'</li><li>'LINCSCP_143365'</li><li>'LINCSCP_141906'</li><li>'LINCSCP_132938'</li><li>'LINCSCP_37569'</li><li>'LINCSCP_138883'</li><li>'LINCSCP_140880'</li><li>'LINCSCP_36045'</li><li>'LINCSCP_34424'</li><li>'LINCSCP_142131'</li><li>'LINCSCP_33235'</li><li>'LINCSCP_34473'</li><li>'LINCSCP_140489'</li><li>'LINCSCP_36734'</li><li>'LINCSCP_32045'</li><li>'LINCSCP_243178'</li><li>'LINCSCP_143436'</li><li>'LINCSCP_32915'</li><li>'LINCSCP_30315'</li><li>'LINCSCP_142427'</li><li>'LINCSCP_139376'</li><li>'LINCSCP_141569'</li><li>'LINCSCP_141670'</li><li>'LINCSCP_33037'</li><li>'LINCSCP_140611'</li><li>'LINCSCP_67584'</li><li>'LINCSCP_241019'</li><li>'LINCSCP_37286'</li><li>'LINCSCP_139770'</li><li>'LINCSCP_142130'</li><li>'LINCSCP_36569'</li><li>'LINCSCP_141797'</li><li>'LINCSCP_30491'</li><li>'LINCSCP_35364'</li><li>'LINCSCP_30684'</li><li>'LINCSCP_250515'</li><li>'LINCSCP_30248'</li><li>'LINCSCP_138464'</li><li>'LINCSCP_32261'</li><li>'LINCSCP_142039'</li><li>'LINCSCP_30922'</li><li>'LINCSCP_142661'</li><li>'LINCSCP_133897'</li><li>'LINCSCP_139236'</li><li>'LINCSCP_31786'</li><li>'LINCSCP_34611'</li><li>'LINCSCP_36333'</li><li>'LINCSCP_38339'</li><li>'LINCSCP_132729'</li><li>'LINCSCP_239501'</li><li>'LINCSCP_238883'</li><li>'LINCSCP_35591'</li><li>'LINCSCP_30537'</li><li>'LINCSCP_34902'</li><li>'LINCSCP_37020'</li><li>'LINCSCP_35503'</li><li>'LINCSCP_239045'</li><li>'LINCSCP_31233'</li><li>'LINCSCP_30659'</li><li>'LINCSCP_238678'</li><li>'LINCSCP_34418'</li><li>'LINCSCP_33330'</li><li>'LINCSCP_34065'</li><li>'LINCSCP_133615'</li><li>'LINCSCP_38624'</li><li>'LINCSCP_252981'</li><li>'LINCSCP_34196'</li><li>'LINCSCP_32642'</li><li>'LINCSCP_35169'</li><li>'LINCSCP_133795'</li><li>'LINCSCP_255169'</li><li>'LINCSCP_35282'</li><li>'LINCSCP_32117'</li><li>'LINCSCP_38685'</li><li>'LINCSCP_30385'</li><li>'LINCSCP_34885'</li><li>'LINCSCP_34573'</li><li>'LINCSCP_140285'</li><li>'LINCSCP_142498'</li><li>'LINCSCP_141426'</li><li>'LINCSCP_136633'</li><li>'LINCSCP_30300'</li><li>'LINCSCP_140566'</li><li>'LINCSCP_236665'</li><li>'LINCSCP_34029'</li><li>'LINCSCP_33486'</li><li>'LINCSCP_32470'</li><li>'LINCSCP_140549'</li><li>'LINCSCP_32013'</li><li>'LINCSCP_250903'</li><li>'LINCSCP_142040'</li><li>'LINCSCP_33513'</li><li>'LINCSCP_251150'</li><li>'LINCSCP_142741'</li><li>'LINCSCP_137984'</li><li>'LINCSCP_132650'</li><li>'LINCSCP_142523'</li><li>'LINCSCP_136632'</li><li>'LINCSCP_33394'</li><li>'LINCSCP_36482'</li><li>'LINCSCP_137887'</li><li>'LINCSCP_35887'</li><li>'LINCSCP_142963'</li><li>'LINCSCP_138003'</li><li>'LINCSCP_34478'</li><li>'LINCSCP_30304'</li><li>'LINCSCP_35965'</li><li>'LINCSCP_141445'</li><li>'LINCSCP_38257'</li><li>'LINCSCP_137670'</li><li>'LINCSCP_138138'</li><li>'LINCSCP_32972'</li><li>'LINCSCP_33391'</li><li>'LINCSCP_30337'</li><li>'LINCSCP_243206'</li><li>'LINCSCP_139188'</li><li>'LINCSCP_30957'</li><li>'LINCSCP_34739'</li><li>'LINCSCP_132928'</li><li>'LINCSCP_30625'</li></ol>\n"
            ],
            "text/markdown": "1. 'LINCSCP_33167'\n2. 'LINCSCP_240518'\n3. 'LINCSCP_32012'\n4. 'LINCSCP_34284'\n5. 'LINCSCP_238767'\n6. 'LINCSCP_38861'\n7. 'LINCSCP_37252'\n8. 'LINCSCP_35762'\n9. 'LINCSCP_36981'\n10. 'LINCSCP_35104'\n11. 'LINCSCP_35262'\n12. 'LINCSCP_143108'\n13. 'LINCSCP_33339'\n14. 'LINCSCP_32717'\n15. 'LINCSCP_236234'\n16. 'LINCSCP_31811'\n17. 'LINCSCP_33460'\n18. 'LINCSCP_30171'\n19. 'LINCSCP_38873'\n20. 'LINCSCP_33637'\n21. 'LINCSCP_35083'\n22. 'LINCSCP_38860'\n23. 'LINCSCP_38863'\n24. 'LINCSCP_34392'\n25. 'LINCSCP_37797'\n26. 'LINCSCP_132955'\n27. 'LINCSCP_34652'\n28. 'LINCSCP_30951'\n29. 'LINCSCP_37329'\n30. 'LINCSCP_32771'\n31. 'LINCSCP_241838'\n32. 'LINCSCP_138016'\n33. 'LINCSCP_36477'\n34. 'LINCSCP_30221'\n35. 'LINCSCP_32752'\n36. 'LINCSCP_248968'\n37. 'LINCSCP_33850'\n38. 'LINCSCP_33222'\n39. 'LINCSCP_136388'\n40. 'LINCSCP_140411'\n41. 'LINCSCP_35764'\n42. 'LINCSCP_141977'\n43. 'LINCSCP_34190'\n44. 'LINCSCP_37798'\n45. 'LINCSCP_132211'\n46. 'LINCSCP_34229'\n47. 'LINCSCP_132958'\n48. 'LINCSCP_139623'\n49. 'LINCSCP_139408'\n50. 'LINCSCP_138007'\n51. 'LINCSCP_31293'\n52. 'LINCSCP_30882'\n53. 'LINCSCP_30824'\n54. 'LINCSCP_32798'\n55. 'LINCSCP_142518'\n56. 'LINCSCP_132340'\n57. 'LINCSCP_30701'\n58. 'LINCSCP_238939'\n59. 'LINCSCP_139465'\n60. 'LINCSCP_32834'\n61. 'LINCSCP_32913'\n62. 'LINCSCP_140363'\n63. 'LINCSCP_140273'\n64. 'LINCSCP_30649'\n65. 'LINCSCP_133033'\n66. 'LINCSCP_139056'\n67. 'LINCSCP_31287'\n68. 'LINCSCP_139861'\n69. 'LINCSCP_33103'\n70. 'LINCSCP_30252'\n71. 'LINCSCP_142667'\n72. 'LINCSCP_35146'\n73. 'LINCSCP_255179'\n74. 'LINCSCP_248814'\n75. 'LINCSCP_138256'\n76. 'LINCSCP_132441'\n77. 'LINCSCP_37799'\n78. 'LINCSCP_34747'\n79. 'LINCSCP_34265'\n80. 'LINCSCP_36138'\n81. 'LINCSCP_240171'\n82. 'LINCSCP_33598'\n83. 'LINCSCP_38625'\n84. 'LINCSCP_30879'\n85. 'LINCSCP_133050'\n86. 'LINCSCP_35133'\n87. 'LINCSCP_32764'\n88. 'LINCSCP_31216'\n89. 'LINCSCP_35613'\n90. 'LINCSCP_31382'\n91. 'LINCSCP_35070'\n92. 'LINCSCP_140321'\n93. 'LINCSCP_132192'\n94. 'LINCSCP_38373'\n95. 'LINCSCP_34670'\n96. 'LINCSCP_132948'\n97. 'LINCSCP_30986'\n98. 'LINCSCP_140378'\n99. 'LINCSCP_139982'\n100. 'LINCSCP_141798'\n101. 'LINCSCP_236812'\n102. 'LINCSCP_240450'\n103. 'LINCSCP_236536'\n104. 'LINCSCP_30249'\n105. 'LINCSCP_143255'\n106. 'LINCSCP_38578'\n107. 'LINCSCP_131904'\n108. 'LINCSCP_35299'\n109. 'LINCSCP_236901'\n110. 'LINCSCP_252061'\n111. 'LINCSCP_140048'\n112. 'LINCSCP_141509'\n113. 'LINCSCP_140336'\n114. 'LINCSCP_35377'\n115. 'LINCSCP_35190'\n116. 'LINCSCP_35340'\n117. 'LINCSCP_33243'\n118. 'LINCSCP_30404'\n119. 'LINCSCP_252815'\n120. 'LINCSCP_239235'\n121. 'LINCSCP_35324'\n122. 'LINCSCP_35471'\n123. 'LINCSCP_67592'\n124. 'LINCSCP_242068'\n125. 'LINCSCP_238928'\n126. 'LINCSCP_133418'\n127. 'LINCSCP_249045'\n128. 'LINCSCP_32664'\n129. 'LINCSCP_30609'\n130. 'LINCSCP_136585'\n131. 'LINCSCP_30343'\n132. 'LINCSCP_35509'\n133. 'LINCSCP_31280'\n134. 'LINCSCP_239064'\n135. 'LINCSCP_240378'\n136. 'LINCSCP_33193'\n137. 'LINCSCP_241149'\n138. 'LINCSCP_33827'\n139. 'LINCSCP_251920'\n140. 'LINCSCP_243122'\n141. 'LINCSCP_37738'\n142. 'LINCSCP_243170'\n143. 'LINCSCP_133095'\n144. 'LINCSCP_132599'\n145. 'LINCSCP_140946'\n146. 'LINCSCP_35637'\n147. 'LINCSCP_133186'\n148. 'LINCSCP_31259'\n149. 'LINCSCP_142043'\n150. 'LINCSCP_142382'\n151. 'LINCSCP_30503'\n152. 'LINCSCP_244059'\n153. 'LINCSCP_248924'\n154. 'LINCSCP_38362'\n155. 'LINCSCP_38426'\n156. 'LINCSCP_31713'\n157. 'LINCSCP_35671'\n158. 'LINCSCP_143433'\n159. 'LINCSCP_34720'\n160. 'LINCSCP_243362'\n161. 'LINCSCP_236821'\n162. 'LINCSCP_30670'\n163. 'LINCSCP_143021'\n164. 'LINCSCP_34752'\n165. 'LINCSCP_139320'\n166. 'LINCSCP_132711'\n167. 'LINCSCP_131918'\n168. 'LINCSCP_251108'\n169. 'LINCSCP_132373'\n170. 'LINCSCP_33551'\n171. 'LINCSCP_32742'\n172. 'LINCSCP_142766'\n173. 'LINCSCP_30411'\n174. 'LINCSCP_143366'\n175. 'LINCSCP_138013'\n176. 'LINCSCP_140886'\n177. 'LINCSCP_34464'\n178. 'LINCSCP_36106'\n179. 'LINCSCP_32036'\n180. 'LINCSCP_142349'\n181. 'LINCSCP_251508'\n182. 'LINCSCP_67581'\n183. 'LINCSCP_144089'\n184. 'LINCSCP_251126'\n185. 'LINCSCP_140848'\n186. 'LINCSCP_37242'\n187. 'LINCSCP_243214'\n188. 'LINCSCP_132761'\n189. 'LINCSCP_242908'\n190. 'LINCSCP_143067'\n191. 'LINCSCP_238407'\n192. 'LINCSCP_142182'\n193. 'LINCSCP_236972'\n194. 'LINCSCP_31197'\n195. 'LINCSCP_139413'\n196. 'LINCSCP_32778'\n197. 'LINCSCP_30608'\n198. 'LINCSCP_31431'\n199. 'LINCSCP_31282'\n200. 'LINCSCP_30785'\n201. ⋯\n202. 'LINCSCP_137199'\n203. 'LINCSCP_34748'\n204. 'LINCSCP_36330'\n205. 'LINCSCP_31092'\n206. 'LINCSCP_31514'\n207. 'LINCSCP_31247'\n208. 'LINCSCP_32773'\n209. 'LINCSCP_137401'\n210. 'LINCSCP_32620'\n211. 'LINCSCP_239325'\n212. 'LINCSCP_137054'\n213. 'LINCSCP_132354'\n214. 'LINCSCP_33390'\n215. 'LINCSCP_32067'\n216. 'LINCSCP_34080'\n217. 'LINCSCP_36727'\n218. 'LINCSCP_252940'\n219. 'LINCSCP_33500'\n220. 'LINCSCP_30296'\n221. 'LINCSCP_140015'\n222. 'LINCSCP_33159'\n223. 'LINCSCP_37873'\n224. 'LINCSCP_34471'\n225. 'LINCSCP_249758'\n226. 'LINCSCP_143363'\n227. 'LINCSCP_144498'\n228. 'LINCSCP_32667'\n229. 'LINCSCP_35768'\n230. 'LINCSCP_32600'\n231. 'LINCSCP_33619'\n232. 'LINCSCP_240981'\n233. 'LINCSCP_32843'\n234. 'LINCSCP_255155'\n235. 'LINCSCP_139524'\n236. 'LINCSCP_36663'\n237. 'LINCSCP_132779'\n238. 'LINCSCP_139627'\n239. 'LINCSCP_38742'\n240. 'LINCSCP_34072'\n241. 'LINCSCP_34629'\n242. 'LINCSCP_140819'\n243. 'LINCSCP_33461'\n244. 'LINCSCP_67618'\n245. 'LINCSCP_32936'\n246. 'LINCSCP_238964'\n247. 'LINCSCP_30342'\n248. 'LINCSCP_34234'\n249. 'LINCSCP_139778'\n250. 'LINCSCP_67430'\n251. 'LINCSCP_35120'\n252. 'LINCSCP_135676'\n253. 'LINCSCP_30309'\n254. 'LINCSCP_143009'\n255. 'LINCSCP_35939'\n256. 'LINCSCP_33775'\n257. 'LINCSCP_36069'\n258. 'LINCSCP_132687'\n259. 'LINCSCP_30955'\n260. 'LINCSCP_33171'\n261. 'LINCSCP_33961'\n262. 'LINCSCP_249032'\n263. 'LINCSCP_140434'\n264. 'LINCSCP_30487'\n265. 'LINCSCP_132248'\n266. 'LINCSCP_137378'\n267. 'LINCSCP_142429'\n268. 'LINCSCP_142383'\n269. 'LINCSCP_134030'\n270. 'LINCSCP_139218'\n271. 'LINCSCP_239135'\n272. 'LINCSCP_34413'\n273. 'LINCSCP_133019'\n274. 'LINCSCP_37069'\n275. 'LINCSCP_143401'\n276. 'LINCSCP_33837'\n277. 'LINCSCP_31041'\n278. 'LINCSCP_132642'\n279. 'LINCSCP_30366'\n280. 'LINCSCP_251179'\n281. 'LINCSCP_33722'\n282. 'LINCSCP_241244'\n283. 'LINCSCP_143365'\n284. 'LINCSCP_141906'\n285. 'LINCSCP_132938'\n286. 'LINCSCP_37569'\n287. 'LINCSCP_138883'\n288. 'LINCSCP_140880'\n289. 'LINCSCP_36045'\n290. 'LINCSCP_34424'\n291. 'LINCSCP_142131'\n292. 'LINCSCP_33235'\n293. 'LINCSCP_34473'\n294. 'LINCSCP_140489'\n295. 'LINCSCP_36734'\n296. 'LINCSCP_32045'\n297. 'LINCSCP_243178'\n298. 'LINCSCP_143436'\n299. 'LINCSCP_32915'\n300. 'LINCSCP_30315'\n301. 'LINCSCP_142427'\n302. 'LINCSCP_139376'\n303. 'LINCSCP_141569'\n304. 'LINCSCP_141670'\n305. 'LINCSCP_33037'\n306. 'LINCSCP_140611'\n307. 'LINCSCP_67584'\n308. 'LINCSCP_241019'\n309. 'LINCSCP_37286'\n310. 'LINCSCP_139770'\n311. 'LINCSCP_142130'\n312. 'LINCSCP_36569'\n313. 'LINCSCP_141797'\n314. 'LINCSCP_30491'\n315. 'LINCSCP_35364'\n316. 'LINCSCP_30684'\n317. 'LINCSCP_250515'\n318. 'LINCSCP_30248'\n319. 'LINCSCP_138464'\n320. 'LINCSCP_32261'\n321. 'LINCSCP_142039'\n322. 'LINCSCP_30922'\n323. 'LINCSCP_142661'\n324. 'LINCSCP_133897'\n325. 'LINCSCP_139236'\n326. 'LINCSCP_31786'\n327. 'LINCSCP_34611'\n328. 'LINCSCP_36333'\n329. 'LINCSCP_38339'\n330. 'LINCSCP_132729'\n331. 'LINCSCP_239501'\n332. 'LINCSCP_238883'\n333. 'LINCSCP_35591'\n334. 'LINCSCP_30537'\n335. 'LINCSCP_34902'\n336. 'LINCSCP_37020'\n337. 'LINCSCP_35503'\n338. 'LINCSCP_239045'\n339. 'LINCSCP_31233'\n340. 'LINCSCP_30659'\n341. 'LINCSCP_238678'\n342. 'LINCSCP_34418'\n343. 'LINCSCP_33330'\n344. 'LINCSCP_34065'\n345. 'LINCSCP_133615'\n346. 'LINCSCP_38624'\n347. 'LINCSCP_252981'\n348. 'LINCSCP_34196'\n349. 'LINCSCP_32642'\n350. 'LINCSCP_35169'\n351. 'LINCSCP_133795'\n352. 'LINCSCP_255169'\n353. 'LINCSCP_35282'\n354. 'LINCSCP_32117'\n355. 'LINCSCP_38685'\n356. 'LINCSCP_30385'\n357. 'LINCSCP_34885'\n358. 'LINCSCP_34573'\n359. 'LINCSCP_140285'\n360. 'LINCSCP_142498'\n361. 'LINCSCP_141426'\n362. 'LINCSCP_136633'\n363. 'LINCSCP_30300'\n364. 'LINCSCP_140566'\n365. 'LINCSCP_236665'\n366. 'LINCSCP_34029'\n367. 'LINCSCP_33486'\n368. 'LINCSCP_32470'\n369. 'LINCSCP_140549'\n370. 'LINCSCP_32013'\n371. 'LINCSCP_250903'\n372. 'LINCSCP_142040'\n373. 'LINCSCP_33513'\n374. 'LINCSCP_251150'\n375. 'LINCSCP_142741'\n376. 'LINCSCP_137984'\n377. 'LINCSCP_132650'\n378. 'LINCSCP_142523'\n379. 'LINCSCP_136632'\n380. 'LINCSCP_33394'\n381. 'LINCSCP_36482'\n382. 'LINCSCP_137887'\n383. 'LINCSCP_35887'\n384. 'LINCSCP_142963'\n385. 'LINCSCP_138003'\n386. 'LINCSCP_34478'\n387. 'LINCSCP_30304'\n388. 'LINCSCP_35965'\n389. 'LINCSCP_141445'\n390. 'LINCSCP_38257'\n391. 'LINCSCP_137670'\n392. 'LINCSCP_138138'\n393. 'LINCSCP_32972'\n394. 'LINCSCP_33391'\n395. 'LINCSCP_30337'\n396. 'LINCSCP_243206'\n397. 'LINCSCP_139188'\n398. 'LINCSCP_30957'\n399. 'LINCSCP_34739'\n400. 'LINCSCP_132928'\n401. 'LINCSCP_30625'\n\n\n",
            "text/latex": "\\begin{enumerate*}\n\\item 'LINCSCP\\_33167'\n\\item 'LINCSCP\\_240518'\n\\item 'LINCSCP\\_32012'\n\\item 'LINCSCP\\_34284'\n\\item 'LINCSCP\\_238767'\n\\item 'LINCSCP\\_38861'\n\\item 'LINCSCP\\_37252'\n\\item 'LINCSCP\\_35762'\n\\item 'LINCSCP\\_36981'\n\\item 'LINCSCP\\_35104'\n\\item 'LINCSCP\\_35262'\n\\item 'LINCSCP\\_143108'\n\\item 'LINCSCP\\_33339'\n\\item 'LINCSCP\\_32717'\n\\item 'LINCSCP\\_236234'\n\\item 'LINCSCP\\_31811'\n\\item 'LINCSCP\\_33460'\n\\item 'LINCSCP\\_30171'\n\\item 'LINCSCP\\_38873'\n\\item 'LINCSCP\\_33637'\n\\item 'LINCSCP\\_35083'\n\\item 'LINCSCP\\_38860'\n\\item 'LINCSCP\\_38863'\n\\item 'LINCSCP\\_34392'\n\\item 'LINCSCP\\_37797'\n\\item 'LINCSCP\\_132955'\n\\item 'LINCSCP\\_34652'\n\\item 'LINCSCP\\_30951'\n\\item 'LINCSCP\\_37329'\n\\item 'LINCSCP\\_32771'\n\\item 'LINCSCP\\_241838'\n\\item 'LINCSCP\\_138016'\n\\item 'LINCSCP\\_36477'\n\\item 'LINCSCP\\_30221'\n\\item 'LINCSCP\\_32752'\n\\item 'LINCSCP\\_248968'\n\\item 'LINCSCP\\_33850'\n\\item 'LINCSCP\\_33222'\n\\item 'LINCSCP\\_136388'\n\\item 'LINCSCP\\_140411'\n\\item 'LINCSCP\\_35764'\n\\item 'LINCSCP\\_141977'\n\\item 'LINCSCP\\_34190'\n\\item 'LINCSCP\\_37798'\n\\item 'LINCSCP\\_132211'\n\\item 'LINCSCP\\_34229'\n\\item 'LINCSCP\\_132958'\n\\item 'LINCSCP\\_139623'\n\\item 'LINCSCP\\_139408'\n\\item 'LINCSCP\\_138007'\n\\item 'LINCSCP\\_31293'\n\\item 'LINCSCP\\_30882'\n\\item 'LINCSCP\\_30824'\n\\item 'LINCSCP\\_32798'\n\\item 'LINCSCP\\_142518'\n\\item 'LINCSCP\\_132340'\n\\item 'LINCSCP\\_30701'\n\\item 'LINCSCP\\_238939'\n\\item 'LINCSCP\\_139465'\n\\item 'LINCSCP\\_32834'\n\\item 'LINCSCP\\_32913'\n\\item 'LINCSCP\\_140363'\n\\item 'LINCSCP\\_140273'\n\\item 'LINCSCP\\_30649'\n\\item 'LINCSCP\\_133033'\n\\item 'LINCSCP\\_139056'\n\\item 'LINCSCP\\_31287'\n\\item 'LINCSCP\\_139861'\n\\item 'LINCSCP\\_33103'\n\\item 'LINCSCP\\_30252'\n\\item 'LINCSCP\\_142667'\n\\item 'LINCSCP\\_35146'\n\\item 'LINCSCP\\_255179'\n\\item 'LINCSCP\\_248814'\n\\item 'LINCSCP\\_138256'\n\\item 'LINCSCP\\_132441'\n\\item 'LINCSCP\\_37799'\n\\item 'LINCSCP\\_34747'\n\\item 'LINCSCP\\_34265'\n\\item 'LINCSCP\\_36138'\n\\item 'LINCSCP\\_240171'\n\\item 'LINCSCP\\_33598'\n\\item 'LINCSCP\\_38625'\n\\item 'LINCSCP\\_30879'\n\\item 'LINCSCP\\_133050'\n\\item 'LINCSCP\\_35133'\n\\item 'LINCSCP\\_32764'\n\\item 'LINCSCP\\_31216'\n\\item 'LINCSCP\\_35613'\n\\item 'LINCSCP\\_31382'\n\\item 'LINCSCP\\_35070'\n\\item 'LINCSCP\\_140321'\n\\item 'LINCSCP\\_132192'\n\\item 'LINCSCP\\_38373'\n\\item 'LINCSCP\\_34670'\n\\item 'LINCSCP\\_132948'\n\\item 'LINCSCP\\_30986'\n\\item 'LINCSCP\\_140378'\n\\item 'LINCSCP\\_139982'\n\\item 'LINCSCP\\_141798'\n\\item 'LINCSCP\\_236812'\n\\item 'LINCSCP\\_240450'\n\\item 'LINCSCP\\_236536'\n\\item 'LINCSCP\\_30249'\n\\item 'LINCSCP\\_143255'\n\\item 'LINCSCP\\_38578'\n\\item 'LINCSCP\\_131904'\n\\item 'LINCSCP\\_35299'\n\\item 'LINCSCP\\_236901'\n\\item 'LINCSCP\\_252061'\n\\item 'LINCSCP\\_140048'\n\\item 'LINCSCP\\_141509'\n\\item 'LINCSCP\\_140336'\n\\item 'LINCSCP\\_35377'\n\\item 'LINCSCP\\_35190'\n\\item 'LINCSCP\\_35340'\n\\item 'LINCSCP\\_33243'\n\\item 'LINCSCP\\_30404'\n\\item 'LINCSCP\\_252815'\n\\item 'LINCSCP\\_239235'\n\\item 'LINCSCP\\_35324'\n\\item 'LINCSCP\\_35471'\n\\item 'LINCSCP\\_67592'\n\\item 'LINCSCP\\_242068'\n\\item 'LINCSCP\\_238928'\n\\item 'LINCSCP\\_133418'\n\\item 'LINCSCP\\_249045'\n\\item 'LINCSCP\\_32664'\n\\item 'LINCSCP\\_30609'\n\\item 'LINCSCP\\_136585'\n\\item 'LINCSCP\\_30343'\n\\item 'LINCSCP\\_35509'\n\\item 'LINCSCP\\_31280'\n\\item 'LINCSCP\\_239064'\n\\item 'LINCSCP\\_240378'\n\\item 'LINCSCP\\_33193'\n\\item 'LINCSCP\\_241149'\n\\item 'LINCSCP\\_33827'\n\\item 'LINCSCP\\_251920'\n\\item 'LINCSCP\\_243122'\n\\item 'LINCSCP\\_37738'\n\\item 'LINCSCP\\_243170'\n\\item 'LINCSCP\\_133095'\n\\item 'LINCSCP\\_132599'\n\\item 'LINCSCP\\_140946'\n\\item 'LINCSCP\\_35637'\n\\item 'LINCSCP\\_133186'\n\\item 'LINCSCP\\_31259'\n\\item 'LINCSCP\\_142043'\n\\item 'LINCSCP\\_142382'\n\\item 'LINCSCP\\_30503'\n\\item 'LINCSCP\\_244059'\n\\item 'LINCSCP\\_248924'\n\\item 'LINCSCP\\_38362'\n\\item 'LINCSCP\\_38426'\n\\item 'LINCSCP\\_31713'\n\\item 'LINCSCP\\_35671'\n\\item 'LINCSCP\\_143433'\n\\item 'LINCSCP\\_34720'\n\\item 'LINCSCP\\_243362'\n\\item 'LINCSCP\\_236821'\n\\item 'LINCSCP\\_30670'\n\\item 'LINCSCP\\_143021'\n\\item 'LINCSCP\\_34752'\n\\item 'LINCSCP\\_139320'\n\\item 'LINCSCP\\_132711'\n\\item 'LINCSCP\\_131918'\n\\item 'LINCSCP\\_251108'\n\\item 'LINCSCP\\_132373'\n\\item 'LINCSCP\\_33551'\n\\item 'LINCSCP\\_32742'\n\\item 'LINCSCP\\_142766'\n\\item 'LINCSCP\\_30411'\n\\item 'LINCSCP\\_143366'\n\\item 'LINCSCP\\_138013'\n\\item 'LINCSCP\\_140886'\n\\item 'LINCSCP\\_34464'\n\\item 'LINCSCP\\_36106'\n\\item 'LINCSCP\\_32036'\n\\item 'LINCSCP\\_142349'\n\\item 'LINCSCP\\_251508'\n\\item 'LINCSCP\\_67581'\n\\item 'LINCSCP\\_144089'\n\\item 'LINCSCP\\_251126'\n\\item 'LINCSCP\\_140848'\n\\item 'LINCSCP\\_37242'\n\\item 'LINCSCP\\_243214'\n\\item 'LINCSCP\\_132761'\n\\item 'LINCSCP\\_242908'\n\\item 'LINCSCP\\_143067'\n\\item 'LINCSCP\\_238407'\n\\item 'LINCSCP\\_142182'\n\\item 'LINCSCP\\_236972'\n\\item 'LINCSCP\\_31197'\n\\item 'LINCSCP\\_139413'\n\\item 'LINCSCP\\_32778'\n\\item 'LINCSCP\\_30608'\n\\item 'LINCSCP\\_31431'\n\\item 'LINCSCP\\_31282'\n\\item 'LINCSCP\\_30785'\n\\item ⋯\n\\item 'LINCSCP\\_137199'\n\\item 'LINCSCP\\_34748'\n\\item 'LINCSCP\\_36330'\n\\item 'LINCSCP\\_31092'\n\\item 'LINCSCP\\_31514'\n\\item 'LINCSCP\\_31247'\n\\item 'LINCSCP\\_32773'\n\\item 'LINCSCP\\_137401'\n\\item 'LINCSCP\\_32620'\n\\item 'LINCSCP\\_239325'\n\\item 'LINCSCP\\_137054'\n\\item 'LINCSCP\\_132354'\n\\item 'LINCSCP\\_33390'\n\\item 'LINCSCP\\_32067'\n\\item 'LINCSCP\\_34080'\n\\item 'LINCSCP\\_36727'\n\\item 'LINCSCP\\_252940'\n\\item 'LINCSCP\\_33500'\n\\item 'LINCSCP\\_30296'\n\\item 'LINCSCP\\_140015'\n\\item 'LINCSCP\\_33159'\n\\item 'LINCSCP\\_37873'\n\\item 'LINCSCP\\_34471'\n\\item 'LINCSCP\\_249758'\n\\item 'LINCSCP\\_143363'\n\\item 'LINCSCP\\_144498'\n\\item 'LINCSCP\\_32667'\n\\item 'LINCSCP\\_35768'\n\\item 'LINCSCP\\_32600'\n\\item 'LINCSCP\\_33619'\n\\item 'LINCSCP\\_240981'\n\\item 'LINCSCP\\_32843'\n\\item 'LINCSCP\\_255155'\n\\item 'LINCSCP\\_139524'\n\\item 'LINCSCP\\_36663'\n\\item 'LINCSCP\\_132779'\n\\item 'LINCSCP\\_139627'\n\\item 'LINCSCP\\_38742'\n\\item 'LINCSCP\\_34072'\n\\item 'LINCSCP\\_34629'\n\\item 'LINCSCP\\_140819'\n\\item 'LINCSCP\\_33461'\n\\item 'LINCSCP\\_67618'\n\\item 'LINCSCP\\_32936'\n\\item 'LINCSCP\\_238964'\n\\item 'LINCSCP\\_30342'\n\\item 'LINCSCP\\_34234'\n\\item 'LINCSCP\\_139778'\n\\item 'LINCSCP\\_67430'\n\\item 'LINCSCP\\_35120'\n\\item 'LINCSCP\\_135676'\n\\item 'LINCSCP\\_30309'\n\\item 'LINCSCP\\_143009'\n\\item 'LINCSCP\\_35939'\n\\item 'LINCSCP\\_33775'\n\\item 'LINCSCP\\_36069'\n\\item 'LINCSCP\\_132687'\n\\item 'LINCSCP\\_30955'\n\\item 'LINCSCP\\_33171'\n\\item 'LINCSCP\\_33961'\n\\item 'LINCSCP\\_249032'\n\\item 'LINCSCP\\_140434'\n\\item 'LINCSCP\\_30487'\n\\item 'LINCSCP\\_132248'\n\\item 'LINCSCP\\_137378'\n\\item 'LINCSCP\\_142429'\n\\item 'LINCSCP\\_142383'\n\\item 'LINCSCP\\_134030'\n\\item 'LINCSCP\\_139218'\n\\item 'LINCSCP\\_239135'\n\\item 'LINCSCP\\_34413'\n\\item 'LINCSCP\\_133019'\n\\item 'LINCSCP\\_37069'\n\\item 'LINCSCP\\_143401'\n\\item 'LINCSCP\\_33837'\n\\item 'LINCSCP\\_31041'\n\\item 'LINCSCP\\_132642'\n\\item 'LINCSCP\\_30366'\n\\item 'LINCSCP\\_251179'\n\\item 'LINCSCP\\_33722'\n\\item 'LINCSCP\\_241244'\n\\item 'LINCSCP\\_143365'\n\\item 'LINCSCP\\_141906'\n\\item 'LINCSCP\\_132938'\n\\item 'LINCSCP\\_37569'\n\\item 'LINCSCP\\_138883'\n\\item 'LINCSCP\\_140880'\n\\item 'LINCSCP\\_36045'\n\\item 'LINCSCP\\_34424'\n\\item 'LINCSCP\\_142131'\n\\item 'LINCSCP\\_33235'\n\\item 'LINCSCP\\_34473'\n\\item 'LINCSCP\\_140489'\n\\item 'LINCSCP\\_36734'\n\\item 'LINCSCP\\_32045'\n\\item 'LINCSCP\\_243178'\n\\item 'LINCSCP\\_143436'\n\\item 'LINCSCP\\_32915'\n\\item 'LINCSCP\\_30315'\n\\item 'LINCSCP\\_142427'\n\\item 'LINCSCP\\_139376'\n\\item 'LINCSCP\\_141569'\n\\item 'LINCSCP\\_141670'\n\\item 'LINCSCP\\_33037'\n\\item 'LINCSCP\\_140611'\n\\item 'LINCSCP\\_67584'\n\\item 'LINCSCP\\_241019'\n\\item 'LINCSCP\\_37286'\n\\item 'LINCSCP\\_139770'\n\\item 'LINCSCP\\_142130'\n\\item 'LINCSCP\\_36569'\n\\item 'LINCSCP\\_141797'\n\\item 'LINCSCP\\_30491'\n\\item 'LINCSCP\\_35364'\n\\item 'LINCSCP\\_30684'\n\\item 'LINCSCP\\_250515'\n\\item 'LINCSCP\\_30248'\n\\item 'LINCSCP\\_138464'\n\\item 'LINCSCP\\_32261'\n\\item 'LINCSCP\\_142039'\n\\item 'LINCSCP\\_30922'\n\\item 'LINCSCP\\_142661'\n\\item 'LINCSCP\\_133897'\n\\item 'LINCSCP\\_139236'\n\\item 'LINCSCP\\_31786'\n\\item 'LINCSCP\\_34611'\n\\item 'LINCSCP\\_36333'\n\\item 'LINCSCP\\_38339'\n\\item 'LINCSCP\\_132729'\n\\item 'LINCSCP\\_239501'\n\\item 'LINCSCP\\_238883'\n\\item 'LINCSCP\\_35591'\n\\item 'LINCSCP\\_30537'\n\\item 'LINCSCP\\_34902'\n\\item 'LINCSCP\\_37020'\n\\item 'LINCSCP\\_35503'\n\\item 'LINCSCP\\_239045'\n\\item 'LINCSCP\\_31233'\n\\item 'LINCSCP\\_30659'\n\\item 'LINCSCP\\_238678'\n\\item 'LINCSCP\\_34418'\n\\item 'LINCSCP\\_33330'\n\\item 'LINCSCP\\_34065'\n\\item 'LINCSCP\\_133615'\n\\item 'LINCSCP\\_38624'\n\\item 'LINCSCP\\_252981'\n\\item 'LINCSCP\\_34196'\n\\item 'LINCSCP\\_32642'\n\\item 'LINCSCP\\_35169'\n\\item 'LINCSCP\\_133795'\n\\item 'LINCSCP\\_255169'\n\\item 'LINCSCP\\_35282'\n\\item 'LINCSCP\\_32117'\n\\item 'LINCSCP\\_38685'\n\\item 'LINCSCP\\_30385'\n\\item 'LINCSCP\\_34885'\n\\item 'LINCSCP\\_34573'\n\\item 'LINCSCP\\_140285'\n\\item 'LINCSCP\\_142498'\n\\item 'LINCSCP\\_141426'\n\\item 'LINCSCP\\_136633'\n\\item 'LINCSCP\\_30300'\n\\item 'LINCSCP\\_140566'\n\\item 'LINCSCP\\_236665'\n\\item 'LINCSCP\\_34029'\n\\item 'LINCSCP\\_33486'\n\\item 'LINCSCP\\_32470'\n\\item 'LINCSCP\\_140549'\n\\item 'LINCSCP\\_32013'\n\\item 'LINCSCP\\_250903'\n\\item 'LINCSCP\\_142040'\n\\item 'LINCSCP\\_33513'\n\\item 'LINCSCP\\_251150'\n\\item 'LINCSCP\\_142741'\n\\item 'LINCSCP\\_137984'\n\\item 'LINCSCP\\_132650'\n\\item 'LINCSCP\\_142523'\n\\item 'LINCSCP\\_136632'\n\\item 'LINCSCP\\_33394'\n\\item 'LINCSCP\\_36482'\n\\item 'LINCSCP\\_137887'\n\\item 'LINCSCP\\_35887'\n\\item 'LINCSCP\\_142963'\n\\item 'LINCSCP\\_138003'\n\\item 'LINCSCP\\_34478'\n\\item 'LINCSCP\\_30304'\n\\item 'LINCSCP\\_35965'\n\\item 'LINCSCP\\_141445'\n\\item 'LINCSCP\\_38257'\n\\item 'LINCSCP\\_137670'\n\\item 'LINCSCP\\_138138'\n\\item 'LINCSCP\\_32972'\n\\item 'LINCSCP\\_33391'\n\\item 'LINCSCP\\_30337'\n\\item 'LINCSCP\\_243206'\n\\item 'LINCSCP\\_139188'\n\\item 'LINCSCP\\_30957'\n\\item 'LINCSCP\\_34739'\n\\item 'LINCSCP\\_132928'\n\\item 'LINCSCP\\_30625'\n\\end{enumerate*}\n",
            "text/plain": [
              "  [1] \"LINCSCP_33167\"  \"LINCSCP_240518\" \"LINCSCP_32012\"  \"LINCSCP_34284\" \n",
              "  [5] \"LINCSCP_238767\" \"LINCSCP_38861\"  \"LINCSCP_37252\"  \"LINCSCP_35762\" \n",
              "  [9] \"LINCSCP_36981\"  \"LINCSCP_35104\"  \"LINCSCP_35262\"  \"LINCSCP_143108\"\n",
              " [13] \"LINCSCP_33339\"  \"LINCSCP_32717\"  \"LINCSCP_236234\" \"LINCSCP_31811\" \n",
              " [17] \"LINCSCP_33460\"  \"LINCSCP_30171\"  \"LINCSCP_38873\"  \"LINCSCP_33637\" \n",
              " [21] \"LINCSCP_35083\"  \"LINCSCP_38860\"  \"LINCSCP_38863\"  \"LINCSCP_34392\" \n",
              " [25] \"LINCSCP_37797\"  \"LINCSCP_132955\" \"LINCSCP_34652\"  \"LINCSCP_30951\" \n",
              " [29] \"LINCSCP_37329\"  \"LINCSCP_32771\"  \"LINCSCP_241838\" \"LINCSCP_138016\"\n",
              " [33] \"LINCSCP_36477\"  \"LINCSCP_30221\"  \"LINCSCP_32752\"  \"LINCSCP_248968\"\n",
              " [37] \"LINCSCP_33850\"  \"LINCSCP_33222\"  \"LINCSCP_136388\" \"LINCSCP_140411\"\n",
              " [41] \"LINCSCP_35764\"  \"LINCSCP_141977\" \"LINCSCP_34190\"  \"LINCSCP_37798\" \n",
              " [45] \"LINCSCP_132211\" \"LINCSCP_34229\"  \"LINCSCP_132958\" \"LINCSCP_139623\"\n",
              " [49] \"LINCSCP_139408\" \"LINCSCP_138007\" \"LINCSCP_31293\"  \"LINCSCP_30882\" \n",
              " [53] \"LINCSCP_30824\"  \"LINCSCP_32798\"  \"LINCSCP_142518\" \"LINCSCP_132340\"\n",
              " [57] \"LINCSCP_30701\"  \"LINCSCP_238939\" \"LINCSCP_139465\" \"LINCSCP_32834\" \n",
              " [61] \"LINCSCP_32913\"  \"LINCSCP_140363\" \"LINCSCP_140273\" \"LINCSCP_30649\" \n",
              " [65] \"LINCSCP_133033\" \"LINCSCP_139056\" \"LINCSCP_31287\"  \"LINCSCP_139861\"\n",
              " [69] \"LINCSCP_33103\"  \"LINCSCP_30252\"  \"LINCSCP_142667\" \"LINCSCP_35146\" \n",
              " [73] \"LINCSCP_255179\" \"LINCSCP_248814\" \"LINCSCP_138256\" \"LINCSCP_132441\"\n",
              " [77] \"LINCSCP_37799\"  \"LINCSCP_34747\"  \"LINCSCP_34265\"  \"LINCSCP_36138\" \n",
              " [81] \"LINCSCP_240171\" \"LINCSCP_33598\"  \"LINCSCP_38625\"  \"LINCSCP_30879\" \n",
              " [85] \"LINCSCP_133050\" \"LINCSCP_35133\"  \"LINCSCP_32764\"  \"LINCSCP_31216\" \n",
              " [89] \"LINCSCP_35613\"  \"LINCSCP_31382\"  \"LINCSCP_35070\"  \"LINCSCP_140321\"\n",
              " [93] \"LINCSCP_132192\" \"LINCSCP_38373\"  \"LINCSCP_34670\"  \"LINCSCP_132948\"\n",
              " [97] \"LINCSCP_30986\"  \"LINCSCP_140378\" \"LINCSCP_139982\" \"LINCSCP_141798\"\n",
              "[101] \"LINCSCP_236812\" \"LINCSCP_240450\" \"LINCSCP_236536\" \"LINCSCP_30249\" \n",
              "[105] \"LINCSCP_143255\" \"LINCSCP_38578\"  \"LINCSCP_131904\" \"LINCSCP_35299\" \n",
              "[109] \"LINCSCP_236901\" \"LINCSCP_252061\" \"LINCSCP_140048\" \"LINCSCP_141509\"\n",
              "[113] \"LINCSCP_140336\" \"LINCSCP_35377\"  \"LINCSCP_35190\"  \"LINCSCP_35340\" \n",
              "[117] \"LINCSCP_33243\"  \"LINCSCP_30404\"  \"LINCSCP_252815\" \"LINCSCP_239235\"\n",
              "[121] \"LINCSCP_35324\"  \"LINCSCP_35471\"  \"LINCSCP_67592\"  \"LINCSCP_242068\"\n",
              "[125] \"LINCSCP_238928\" \"LINCSCP_133418\" \"LINCSCP_249045\" \"LINCSCP_32664\" \n",
              "[129] \"LINCSCP_30609\"  \"LINCSCP_136585\" \"LINCSCP_30343\"  \"LINCSCP_35509\" \n",
              "[133] \"LINCSCP_31280\"  \"LINCSCP_239064\" \"LINCSCP_240378\" \"LINCSCP_33193\" \n",
              "[137] \"LINCSCP_241149\" \"LINCSCP_33827\"  \"LINCSCP_251920\" \"LINCSCP_243122\"\n",
              "[141] \"LINCSCP_37738\"  \"LINCSCP_243170\" \"LINCSCP_133095\" \"LINCSCP_132599\"\n",
              "[145] \"LINCSCP_140946\" \"LINCSCP_35637\"  \"LINCSCP_133186\" \"LINCSCP_31259\" \n",
              "[149] \"LINCSCP_142043\" \"LINCSCP_142382\" \"LINCSCP_30503\"  \"LINCSCP_244059\"\n",
              "[153] \"LINCSCP_248924\" \"LINCSCP_38362\"  \"LINCSCP_38426\"  \"LINCSCP_31713\" \n",
              "[157] \"LINCSCP_35671\"  \"LINCSCP_143433\" \"LINCSCP_34720\"  \"LINCSCP_243362\"\n",
              "[161] \"LINCSCP_236821\" \"LINCSCP_30670\"  \"LINCSCP_143021\" \"LINCSCP_34752\" \n",
              "[165] \"LINCSCP_139320\" \"LINCSCP_132711\" \"LINCSCP_131918\" \"LINCSCP_251108\"\n",
              "[169] \"LINCSCP_132373\" \"LINCSCP_33551\"  \"LINCSCP_32742\"  \"LINCSCP_142766\"\n",
              "[173] \"LINCSCP_30411\"  \"LINCSCP_143366\" \"LINCSCP_138013\" \"LINCSCP_140886\"\n",
              "[177] \"LINCSCP_34464\"  \"LINCSCP_36106\"  \"LINCSCP_32036\"  \"LINCSCP_142349\"\n",
              "[181] \"LINCSCP_251508\" \"LINCSCP_67581\"  \"LINCSCP_144089\" \"LINCSCP_251126\"\n",
              "[185] \"LINCSCP_140848\" \"LINCSCP_37242\"  \"LINCSCP_243214\" \"LINCSCP_132761\"\n",
              "[189] \"LINCSCP_242908\" \"LINCSCP_143067\" \"LINCSCP_238407\" \"LINCSCP_142182\"\n",
              "[193] \"LINCSCP_236972\" \"LINCSCP_31197\"  \"LINCSCP_139413\" \"LINCSCP_32778\" \n",
              "[197] \"LINCSCP_30608\"  \"LINCSCP_31431\"  \"LINCSCP_31282\"  \"LINCSCP_30785\" \n",
              "[201] \"LINCSCP_32816\"  \"LINCSCP_243652\" \"LINCSCP_132439\" \"LINCSCP_33989\" \n",
              "[205] \"LINCSCP_34367\"  \"LINCSCP_33371\"  \"LINCSCP_30845\"  \"LINCSCP_30259\" \n",
              "[209] \"LINCSCP_133611\" \"LINCSCP_32041\"  \"LINCSCP_140232\" \"LINCSCP_250594\"\n",
              "[213] \"LINCSCP_35974\"  \"LINCSCP_244231\" \"LINCSCP_38862\"  \"LINCSCP_237832\"\n",
              "[217] \"LINCSCP_67564\"  \"LINCSCP_32694\"  \"LINCSCP_139529\" \"LINCSCP_37800\" \n",
              "[221] \"LINCSCP_34341\"  \"LINCSCP_140577\" \"LINCSCP_139375\" \"LINCSCP_33605\" \n",
              "[225] \"LINCSCP_140539\" \"LINCSCP_143341\" \"LINCSCP_137749\" \"LINCSCP_136419\"\n",
              "[229] \"LINCSCP_38558\"  \"LINCSCP_137199\" \"LINCSCP_34748\"  \"LINCSCP_36330\" \n",
              "[233] \"LINCSCP_31092\"  \"LINCSCP_31514\"  \"LINCSCP_31247\"  \"LINCSCP_32773\" \n",
              "[237] \"LINCSCP_137401\" \"LINCSCP_32620\"  \"LINCSCP_239325\" \"LINCSCP_137054\"\n",
              "[241] \"LINCSCP_132354\" \"LINCSCP_33390\"  \"LINCSCP_32067\"  \"LINCSCP_34080\" \n",
              "[245] \"LINCSCP_36727\"  \"LINCSCP_252940\" \"LINCSCP_33500\"  \"LINCSCP_30296\" \n",
              "[249] \"LINCSCP_140015\" \"LINCSCP_33159\"  \"LINCSCP_37873\"  \"LINCSCP_34471\" \n",
              "[253] \"LINCSCP_249758\" \"LINCSCP_143363\" \"LINCSCP_144498\" \"LINCSCP_32667\" \n",
              "[257] \"LINCSCP_35768\"  \"LINCSCP_32600\"  \"LINCSCP_33619\"  \"LINCSCP_240981\"\n",
              "[261] \"LINCSCP_32843\"  \"LINCSCP_255155\" \"LINCSCP_139524\" \"LINCSCP_36663\" \n",
              "[265] \"LINCSCP_132779\" \"LINCSCP_139627\" \"LINCSCP_38742\"  \"LINCSCP_34072\" \n",
              "[269] \"LINCSCP_34629\"  \"LINCSCP_140819\" \"LINCSCP_33461\"  \"LINCSCP_67618\" \n",
              "[273] \"LINCSCP_32936\"  \"LINCSCP_238964\" \"LINCSCP_30342\"  \"LINCSCP_34234\" \n",
              "[277] \"LINCSCP_139778\" \"LINCSCP_67430\"  \"LINCSCP_35120\"  \"LINCSCP_135676\"\n",
              "[281] \"LINCSCP_30309\"  \"LINCSCP_143009\" \"LINCSCP_35939\"  \"LINCSCP_33775\" \n",
              "[285] \"LINCSCP_36069\"  \"LINCSCP_132687\" \"LINCSCP_30955\"  \"LINCSCP_33171\" \n",
              "[289] \"LINCSCP_33961\"  \"LINCSCP_249032\" \"LINCSCP_140434\" \"LINCSCP_30487\" \n",
              "[293] \"LINCSCP_132248\" \"LINCSCP_137378\" \"LINCSCP_142429\" \"LINCSCP_142383\"\n",
              "[297] \"LINCSCP_134030\" \"LINCSCP_139218\" \"LINCSCP_239135\" \"LINCSCP_34413\" \n",
              "[301] \"LINCSCP_133019\" \"LINCSCP_37069\"  \"LINCSCP_143401\" \"LINCSCP_33837\" \n",
              "[305] \"LINCSCP_31041\"  \"LINCSCP_132642\" \"LINCSCP_30366\"  \"LINCSCP_251179\"\n",
              "[309] \"LINCSCP_33722\"  \"LINCSCP_241244\" \"LINCSCP_143365\" \"LINCSCP_141906\"\n",
              "[313] \"LINCSCP_132938\" \"LINCSCP_37569\"  \"LINCSCP_138883\" \"LINCSCP_140880\"\n",
              "[317] \"LINCSCP_36045\"  \"LINCSCP_34424\"  \"LINCSCP_142131\" \"LINCSCP_33235\" \n",
              "[321] \"LINCSCP_34473\"  \"LINCSCP_140489\" \"LINCSCP_36734\"  \"LINCSCP_32045\" \n",
              "[325] \"LINCSCP_243178\" \"LINCSCP_143436\" \"LINCSCP_32915\"  \"LINCSCP_30315\" \n",
              "[329] \"LINCSCP_142427\" \"LINCSCP_139376\" \"LINCSCP_141569\" \"LINCSCP_141670\"\n",
              "[333] \"LINCSCP_33037\"  \"LINCSCP_140611\" \"LINCSCP_67584\"  \"LINCSCP_241019\"\n",
              "[337] \"LINCSCP_37286\"  \"LINCSCP_139770\" \"LINCSCP_142130\" \"LINCSCP_36569\" \n",
              "[341] \"LINCSCP_141797\" \"LINCSCP_30491\"  \"LINCSCP_35364\"  \"LINCSCP_30684\" \n",
              "[345] \"LINCSCP_250515\" \"LINCSCP_30248\"  \"LINCSCP_138464\" \"LINCSCP_32261\" \n",
              "[349] \"LINCSCP_142039\" \"LINCSCP_30922\"  \"LINCSCP_142661\" \"LINCSCP_133897\"\n",
              "[353] \"LINCSCP_139236\" \"LINCSCP_31786\"  \"LINCSCP_34611\"  \"LINCSCP_36333\" \n",
              "[357] \"LINCSCP_38339\"  \"LINCSCP_132729\" \"LINCSCP_239501\" \"LINCSCP_238883\"\n",
              "[361] \"LINCSCP_35591\"  \"LINCSCP_30537\"  \"LINCSCP_34902\"  \"LINCSCP_37020\" \n",
              "[365] \"LINCSCP_35503\"  \"LINCSCP_239045\" \"LINCSCP_31233\"  \"LINCSCP_30659\" \n",
              "[369] \"LINCSCP_238678\" \"LINCSCP_34418\"  \"LINCSCP_33330\"  \"LINCSCP_34065\" \n",
              "[373] \"LINCSCP_133615\" \"LINCSCP_38624\"  \"LINCSCP_252981\" \"LINCSCP_34196\" \n",
              "[377] \"LINCSCP_32642\"  \"LINCSCP_35169\"  \"LINCSCP_133795\" \"LINCSCP_255169\"\n",
              "[381] \"LINCSCP_35282\"  \"LINCSCP_32117\"  \"LINCSCP_38685\"  \"LINCSCP_30385\" \n",
              "[385] \"LINCSCP_34885\"  \"LINCSCP_34573\"  \"LINCSCP_140285\" \"LINCSCP_142498\"\n",
              "[389] \"LINCSCP_141426\" \"LINCSCP_136633\" \"LINCSCP_30300\"  \"LINCSCP_140566\"\n",
              "[393] \"LINCSCP_236665\" \"LINCSCP_34029\"  \"LINCSCP_33486\"  \"LINCSCP_32470\" \n",
              "[397] \"LINCSCP_140549\" \"LINCSCP_32013\"  \"LINCSCP_250903\" \"LINCSCP_142040\"\n",
              "[401] \"LINCSCP_33513\"  \"LINCSCP_251150\" \"LINCSCP_142741\" \"LINCSCP_137984\"\n",
              "[405] \"LINCSCP_132650\" \"LINCSCP_142523\" \"LINCSCP_136632\" \"LINCSCP_33394\" \n",
              "[409] \"LINCSCP_36482\"  \"LINCSCP_137887\" \"LINCSCP_35887\"  \"LINCSCP_142963\"\n",
              "[413] \"LINCSCP_138003\" \"LINCSCP_34478\"  \"LINCSCP_30304\"  \"LINCSCP_35965\" \n",
              "[417] \"LINCSCP_141445\" \"LINCSCP_38257\"  \"LINCSCP_137670\" \"LINCSCP_138138\"\n",
              "[421] \"LINCSCP_32972\"  \"LINCSCP_33391\"  \"LINCSCP_30337\"  \"LINCSCP_243206\"\n",
              "[425] \"LINCSCP_139188\" \"LINCSCP_30957\"  \"LINCSCP_34739\"  \"LINCSCP_132928\"\n",
              "[429] \"LINCSCP_30625\" "
            ]
          },
          "metadata": {}
        }
      ]
    },
    {
      "cell_type": "code",
      "source": [
        "#item_list = list(\"LINCSCP_32475\", \"LINCSCP_132961\", \"LINCSCP_38805\", \"LINCSCP_35665\", \"LINCSCP_133061\", \"LINCSCP_136993\")\n",
        "item_list <- as.list(my_data$SignatureId)\n",
        "for (item in item_list){\n",
        "  ilincs_signatureId <- item\n",
        "  req <- POST(\"http://www.ilincs.org/api/ilincsR/downloadSignature\", body = list(sigID = paste(ilincs_signatureId), display = FALSE), encode = \"json\")\n",
        "  ilincs_sessionId<-unlist(httr::content(req))\n",
        "\n",
        "  fileUrl<-paste(\"http://www.ilincs.org/tmp/\",ilincs_sessionId,\".xls\",sep=\"\")\n",
        "  signatureData<-read.table(fileUrl,sep=\"\\t\",header=T,stringsAsFactors = F)\n",
        "  write.csv(signatureData,paste(ilincs_signatureId,\".csv\"), row.names = FALSE)\n",
        "}"
      ],
      "metadata": {
        "id": "gQgOa6-TxKRb"
      },
      "execution_count": 7,
      "outputs": []
    },
    {
      "cell_type": "code",
      "source": [
        "library(zip)\n",
        "Zip_Files <- list.files(path = getwd(), pattern = \".csv$\")\n",
        "# Zip the files and place the zipped file in working directory\n",
        "zip::zip(zipfile = \"LINSCP_for_drug_combinations.zip\", files = Zip_Files)"
      ],
      "metadata": {
        "id": "Sh8el1bdxlYA",
        "outputId": "d5e804d9-031f-4bbc-e844-30d429723936",
        "colab": {
          "base_uri": "https://localhost:8080/"
        }
      },
      "execution_count": 8,
      "outputs": [
        {
          "output_type": "stream",
          "name": "stderr",
          "text": [
            "\n",
            "Attaching package: ‘zip’\n",
            "\n",
            "\n",
            "The following objects are masked from ‘package:utils’:\n",
            "\n",
            "    unzip, zip\n",
            "\n",
            "\n"
          ]
        }
      ]
    },
    {
      "cell_type": "code",
      "source": [
        "library(zip)\n",
        "Zip_Files <- list.files(path = getwd(), pattern = \".csv$\")\n",
        "# Zip the files and place the zipped file in working directory\n",
        "zip::zip(zipfile = \"LINSCP_for_drug_combinations.zip\", files = Zip_Files)"
      ],
      "metadata": {
        "id": "EBMLaztKxpQq"
      },
      "execution_count": 9,
      "outputs": []
    }
  ]
}