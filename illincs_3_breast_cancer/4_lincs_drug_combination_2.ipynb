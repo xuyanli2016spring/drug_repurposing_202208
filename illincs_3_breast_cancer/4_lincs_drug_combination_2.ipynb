{
 "cells": [
  {
   "cell_type": "code",
   "execution_count": null,
   "metadata": {},
   "outputs": [],
   "source": [
    "import pandas as pd\n",
    "import os\n",
    "import seaborn as sns\n",
    "sns.set_theme()\n",
    "import matplotlib.pyplot as plt"
   ]
  },
  {
   "cell_type": "code",
   "execution_count": null,
   "metadata": {},
   "outputs": [],
   "source": [
    "# read the expression data from every file and combine them together\n",
    "file_path = '/Users/yanlixu/Desktop/pingan/合作/CDK12/220616/LINSCP_for_drug_combinations'\n",
    "files = os.listdir(file_path)\n",
    "\n",
    "file_list = []\n",
    "gene_list = []\n",
    "diff_value_list = []\n",
    "\n",
    "for file in files:\n",
    "    if os.path.isfile(os.path.join(file_path, file)):\n",
    "        file_list.append(file.replace(' .csv', ''))\n",
    "        if file == 'LINCSCP_30171 .csv':\n",
    "            gene_list = data['Name_GeneSymbol'].tolist()       \n",
    "        data = pd.read_csv(os.path.join(file_path, file))\n",
    "        diff_value_list.append(data['Value_LogDiffExp'].tolist())\n",
    "        \n",
    "diff_value_df = pd.DataFrame(diff_value_list)\n",
    "diff_value_df = diff_value_df.transpose()\n",
    "\n",
    "diff_value_df.columns = file_list\n",
    "diff_value_df.index = gene_list\n",
    "diff_value_df"
   ]
  },
  {
   "cell_type": "code",
   "execution_count": null,
   "metadata": {},
   "outputs": [],
   "source": [
    "# read top up and down regulated genes data\n",
    "top_genes_data = pd.read_excel('/Users/yanlixu/Desktop/pingan/合作/CDK12/220616/1_breast_cancer_20220616.xlsx', sheet_name='top_843_genes')\n",
    "\n",
    "top_genes_data = top_genes_data.set_index('Name_GeneSymbol')\n",
    "top_genes_data"
   ]
  },
  {
   "cell_type": "code",
   "execution_count": null,
   "metadata": {},
   "outputs": [],
   "source": [
    "# merge two dataframe\n",
    "df_merged = pd.merge(diff_value_df, top_genes_data[['Value_LogDiffExp']], left_index=True, right_index=True)\n",
    "df_merged.rename(columns={'Value_LogDiffExp': 'breast_cancer_reverse_gene_expression'}, inplace=True)\n",
    "df_merged"
   ]
  },
  {
   "cell_type": "code",
   "execution_count": null,
   "metadata": {},
   "outputs": [],
   "source": [
    "#df_merged.to_csv('/Users/yanlixu/Desktop/pingan/合作/CDK12/220616/test0616_1.csv')"
   ]
  },
  {
   "cell_type": "code",
   "execution_count": null,
   "metadata": {},
   "outputs": [],
   "source": [
    "ax = sns.clustermap(df_merged, standard_scale=1, cmap=\"vlag\")\n",
    "plt.show()"
   ]
  },
  {
   "cell_type": "markdown",
   "metadata": {},
   "source": [
    "# method 1: covariance\n",
    "# 以化合物XXX为例，这个化合物跟疾病reversed gene expression相关性越大，跟化合物XXX的基因表达相关性越小越好，综合考虑的话，前者除以后者的商越大，组合的后效果好的可能性越大。"
   ]
  },
  {
   "cell_type": "code",
   "execution_count": null,
   "metadata": {},
   "outputs": [],
   "source": [
    "# calculate covariance\n",
    "df_merged_cov = df_merged.cov()"
   ]
  },
  {
   "cell_type": "code",
   "execution_count": null,
   "metadata": {},
   "outputs": [],
   "source": [
    "df_merged_cov"
   ]
  },
  {
   "cell_type": "code",
   "execution_count": null,
   "metadata": {},
   "outputs": [],
   "source": [
    "ax = sns.clustermap(df_merged_cov, standard_scale=1, cmap=\"vlag\")\n",
    "plt.show()"
   ]
  },
  {
   "cell_type": "code",
   "execution_count": null,
   "metadata": {},
   "outputs": [],
   "source": [
    "# sort the dataframe by the covariance with reversed gene expression of breast cancer\n",
    "df_merged_cov_sorted = df_merged_cov.sort_values(by=['breast_cancer_reverse_gene_expression'], ascending=False)\n",
    "# remove disease row\n",
    "df_merged_cov_sorted_no_disease_row = df_merged_cov_sorted.drop(index='breast_cancer_reverse_gene_expression')\n",
    "# split the dataframe\n",
    "df_cov_1 = df_merged_cov_sorted_no_disease_row.drop('breast_cancer_reverse_gene_expression', 1)\n",
    "df_cov_2 = df_merged_cov_sorted_no_disease_row['breast_cancer_reverse_gene_expression']\n",
    "# transpose the dataframe\n",
    "df_cov_1_transpose = df_cov_1.transpose()\n",
    "# merge dataframe, every LINSCPXXX column and disease column combined show the distance of compound Y with LINSCPXXX and disease \n",
    "df_cov_final = pd.merge(df_cov_1_transpose, df_cov_2, left_index=True, right_index=True)\n",
    "df_cov_final = df_cov_final.sort_values(by=['breast_cancer_reverse_gene_expression'], ascending=False)\n",
    "df_cov_final"
   ]
  },
  {
   "cell_type": "code",
   "execution_count": null,
   "metadata": {},
   "outputs": [],
   "source": [
    "\n",
    "        \n",
    "col_names = df_cov_final.columns\n",
    "for sample in col_names:\n",
    "    if sample != \"breast_cancer_reverse_gene_expression\":  \n",
    "        # rank the compounds\n",
    "        df_cov_final[sample+'_rank_scove'] = round(df_cov_final['breast_cancer_reverse_gene_expression']/df_cov_final[sample], 2)\n",
    "        plot = sns.scatterplot(data=df_cov_final, x=sample, y=\"breast_cancer_reverse_gene_expression\")\n",
    "        plot.set_xlabel((\"covariance with \" + sample), fontsize = 20)\n",
    "        plot.set_ylabel(\"covariance with disease\", fontsize = 20)\n",
    "        plt.show()\n",
    "\n",
    "\n",
    "\n",
    "    "
   ]
  },
  {
   "cell_type": "code",
   "execution_count": null,
   "metadata": {},
   "outputs": [],
   "source": [
    "df_cov_final.to_csv('df_cov_final.csv')"
   ]
  },
  {
   "cell_type": "markdown",
   "metadata": {},
   "source": [
    "# method2: correlation\n",
    "\n",
    "# 以化合物XXX为例，这个化合物跟疾病reversed gene expression相关性越大，跟化合物XXX的基因表达相关性越小越好，综合考虑的话，前者除以后者的商越大，组合的后效果好的可能性越大。"
   ]
  },
  {
   "cell_type": "code",
   "execution_count": null,
   "metadata": {},
   "outputs": [],
   "source": [
    "df_merged_cor = df_merged.corr()"
   ]
  },
  {
   "cell_type": "code",
   "execution_count": null,
   "metadata": {},
   "outputs": [],
   "source": [
    "df_merged_cor"
   ]
  },
  {
   "cell_type": "code",
   "execution_count": null,
   "metadata": {},
   "outputs": [],
   "source": [
    "ax = sns.clustermap(df_merged_cor, standard_scale=1, cmap=\"vlag\")\n",
    "plt.show()"
   ]
  },
  {
   "cell_type": "code",
   "execution_count": null,
   "metadata": {},
   "outputs": [],
   "source": [
    "df_merged_cor_sorted = df_merged_cor.sort_values(by=['breast_cancer_reverse_gene_expression'], ascending=False)\n",
    "df_merged_cor_sorted_no_disease_row = df_merged_cor_sorted.drop(index='breast_cancer_reverse_gene_expression')\n",
    "df_cor_1 = df_merged_cor_sorted_no_disease_row.drop('breast_cancer_reverse_gene_expression', 1)\n",
    "df_cor_2 = df_merged_cor_sorted_no_disease_row['breast_cancer_reverse_gene_expression']\n",
    "df_cor_1_transpose = df_cor_1.transpose()\n",
    "df_cor_final = pd.merge(df_cor_1_transpose, df_cor_2, left_index=True, right_index=True)\n",
    "df_cor_final = df_cor_final.sort_values(by=['breast_cancer_reverse_gene_expression'], ascending=False)\n",
    "df_cor_final"
   ]
  },
  {
   "cell_type": "code",
   "execution_count": null,
   "metadata": {},
   "outputs": [],
   "source": [
    "col_names = df_cor_final.columns\n",
    "for sample in col_names:\n",
    "    if sample != \"breast_cancer_reverse_gene_expression\":  \n",
    "        df_cor_final[sample+'_rank_score'] = round(df_cor_final['breast_cancer_reverse_gene_expression']/df_cor_final[sample], 2)\n",
    "        plot = sns.scatterplot(data=df_cor_final, x=sample, y=\"breast_cancer_reverse_gene_expression\")\n",
    "        plot.set_xlabel((\"correlation with \" + sample), fontsize = 20)\n",
    "        plot.set_ylabel(\"correlation with disease\", fontsize = 20)\n",
    "        plt.show()"
   ]
  },
  {
   "cell_type": "code",
   "execution_count": null,
   "metadata": {},
   "outputs": [],
   "source": [
    "df_cor_final.to_csv('/Users/yanlixu/Desktop/pingan/合作/CDK12/220608/df_cor_final.csv')"
   ]
  },
  {
   "cell_type": "code",
   "execution_count": null,
   "metadata": {},
   "outputs": [],
   "source": [
    "df_cor_final.to_csv('df_cor_final.csv')"
   ]
  },
  {
   "cell_type": "code",
   "execution_count": null,
   "metadata": {},
   "outputs": [],
   "source": []
  }
 ],
 "metadata": {
  "kernelspec": {
   "display_name": "deepchem_py37",
   "language": "python",
   "name": "deepchem_py37"
  },
  "language_info": {
   "codemirror_mode": {
    "name": "ipython",
    "version": 3
   },
   "file_extension": ".py",
   "mimetype": "text/x-python",
   "name": "python",
   "nbconvert_exporter": "python",
   "pygments_lexer": "ipython3",
   "version": "3.7.11"
  }
 },
 "nbformat": 4,
 "nbformat_minor": 4
}
