{
  "nbformat": 4,
  "nbformat_minor": 0,
  "metadata": {
    "colab": {
      "name": "1_get_illincs_signitures.ipynb",
      "provenance": []
    },
    "kernelspec": {
      "name": "ir",
      "display_name": "R"
    },
    "language_info": {
      "name": "R"
    }
  },
  "cells": [
    {
      "cell_type": "markdown",
      "source": [
        "# iLINCS API R Notebook"
      ],
      "metadata": {
        "id": "T4U0nB8PjApR"
      }
    },
    {
      "cell_type": "markdown",
      "source": [
        "## Prerequisites"
      ],
      "metadata": {
        "id": "9CVlWb7IjAdM"
      }
    },
    {
      "cell_type": "code",
      "source": [
        "library(IRdisplay)\n",
        "library(tinytex)\n",
        "library(httr)\n",
        "library(jsonlite)\n",
        "library(htmltools)\n",
        "\n",
        "if (!require(\"BiocManager\", quietly = TRUE))\n",
        "    install.packages(\"BiocManager\")\n",
        "\n",
        "BiocManager::install(\"Biobase\")\n"
      ],
      "metadata": {
        "colab": {
          "base_uri": "https://localhost:8080/"
        },
        "id": "Y20W9HJxjAQv",
        "outputId": "3d02a03d-9433-441d-989a-501dd2d74320"
      },
      "execution_count": null,
      "outputs": [
        {
          "output_type": "stream",
          "name": "stderr",
          "text": [
            "Installing package into ‘/usr/local/lib/R/site-library’\n",
            "(as ‘lib’ is unspecified)\n",
            "\n",
            "'getOption(\"repos\")' replaces Bioconductor standard repositories, see\n",
            "'?repositories' for details\n",
            "\n",
            "replacement repositories:\n",
            "    CRAN: https://cran.rstudio.com\n",
            "\n",
            "\n",
            "Bioconductor version 3.15 (BiocManager 1.30.18), R 4.2.0 (2022-04-22)\n",
            "\n",
            "Installing package(s) 'BiocVersion', 'Biobase'\n",
            "\n",
            "also installing the dependency ‘BiocGenerics’\n",
            "\n",
            "\n",
            "Old packages: 'openssl', 'roxygen2', 'tinytex', 'usethis', 'xfun'\n",
            "\n"
          ]
        }
      ]
    },
    {
      "cell_type": "code",
      "source": [
        "library(\"readxl\")\n",
        "library(dplyr)\n",
        "\n",
        "my_data <- read_excel(\"5_compounds_for_drug_combination.xlsx\", sheet=\"Sheet1\")\n",
        "mydata_sub <- my_data[my_data$Concordance < -0.3 & my_data$pValue < 0.01, ]\n",
        "mydata_sub_unique = distinct(mydata_sub, Perturbagen, Concentration, .keep_all= TRUE)\n"
      ],
      "metadata": {
        "id": "vEQQt-TvUN06",
        "colab": {
          "base_uri": "https://localhost:8080/"
        },
        "outputId": "efbc6dd4-c214-44b5-9a2b-e8b06488401a"
      },
      "execution_count": null,
      "outputs": [
        {
          "output_type": "stream",
          "name": "stderr",
          "text": [
            "\n",
            "Attaching package: ‘dplyr’\n",
            "\n",
            "\n",
            "The following objects are masked from ‘package:stats’:\n",
            "\n",
            "    filter, lag\n",
            "\n",
            "\n",
            "The following objects are masked from ‘package:base’:\n",
            "\n",
            "    intersect, setdiff, setequal, union\n",
            "\n",
            "\n"
          ]
        }
      ]
    },
    {
      "cell_type": "code",
      "source": [
        "#item_list = list(\"LINCSCP_32475\", \"LINCSCP_132961\", \"LINCSCP_38805\", \"LINCSCP_35665\", \"LINCSCP_133061\", \"LINCSCP_136993\")\n",
        "item_list <- as.list(mydata_sub_unique$SignatureId)\n",
        "for (item in item_list){\n",
        "  ilincs_signatureId <- item\n",
        "  req <- POST(\"http://www.ilincs.org/api/ilincsR/downloadSignature\", body = list(sigID = paste(ilincs_signatureId), display = FALSE), encode = \"json\")\n",
        "  ilincs_sessionId<-unlist(httr::content(req))\n",
        "\n",
        "  fileUrl<-paste(\"http://www.ilincs.org/tmp/\",ilincs_sessionId,\".xls\",sep=\"\")\n",
        "  signatureData<-read.table(fileUrl,sep=\"\\t\",header=T,stringsAsFactors = F)\n",
        "  write.csv(signatureData,paste(ilincs_signatureId,\".csv\"), row.names = FALSE)\n",
        "}"
      ],
      "metadata": {
        "id": "cGHjCZ81Fb_e"
      },
      "execution_count": null,
      "outputs": []
    },
    {
      "cell_type": "code",
      "source": [
        "library(zip)\n",
        "Zip_Files <- list.files(path = getwd(), pattern = \".csv$\")\n",
        "# Zip the files and place the zipped file in working directory\n",
        "zip::zip(zipfile = \"LINSCP_for_drug_combinations.zip\", files = Zip_Files)"
      ],
      "metadata": {
        "id": "BYL1-hx3MhBT"
      },
      "execution_count": null,
      "outputs": []
    }
  ]
}